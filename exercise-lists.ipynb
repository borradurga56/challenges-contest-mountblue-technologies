{
 "cells": [
  {
   "cell_type": "markdown",
   "id": "c8bbf004",
   "metadata": {
    "papermill": {
     "duration": 0.004314,
     "end_time": "2025-05-17T21:46:07.069211",
     "exception": false,
     "start_time": "2025-05-17T21:46:07.064897",
     "status": "completed"
    },
    "tags": []
   },
   "source": [
    "**This notebook is an exercise in the [Python](https://www.kaggle.com/learn/python) course.  You can reference the tutorial at [this link](https://www.kaggle.com/colinmorris/lists).**\n",
    "\n",
    "---\n"
   ]
  },
  {
   "cell_type": "markdown",
   "id": "bcdd1b0a",
   "metadata": {
    "papermill": {
     "duration": 0.003188,
     "end_time": "2025-05-17T21:46:07.076097",
     "exception": false,
     "start_time": "2025-05-17T21:46:07.072909",
     "status": "completed"
    },
    "tags": []
   },
   "source": [
    "Things get more interesting with lists. You'll apply your new knowledge to solve the questions below. Remember to run the following cell first."
   ]
  },
  {
   "cell_type": "code",
   "execution_count": 1,
   "id": "aedce703",
   "metadata": {
    "execution": {
     "iopub.execute_input": "2025-05-17T21:46:07.084692Z",
     "iopub.status.busy": "2025-05-17T21:46:07.084343Z",
     "iopub.status.idle": "2025-05-17T21:46:09.066928Z",
     "shell.execute_reply": "2025-05-17T21:46:09.065945Z"
    },
    "papermill": {
     "duration": 1.988899,
     "end_time": "2025-05-17T21:46:09.068441",
     "exception": false,
     "start_time": "2025-05-17T21:46:07.079542",
     "status": "completed"
    },
    "tags": []
   },
   "outputs": [
    {
     "name": "stdout",
     "output_type": "stream",
     "text": [
      "Setup complete.\n"
     ]
    }
   ],
   "source": [
    "from learntools.core import binder; binder.bind(globals())\n",
    "from learntools.python.ex4 import *\n",
    "print('Setup complete.')"
   ]
  },
  {
   "cell_type": "markdown",
   "id": "0990e817",
   "metadata": {
    "papermill": {
     "duration": 0.003363,
     "end_time": "2025-05-17T21:46:09.075565",
     "exception": false,
     "start_time": "2025-05-17T21:46:09.072202",
     "status": "completed"
    },
    "tags": []
   },
   "source": [
    "# 1.\n",
    "\n",
    "Complete the function below according to its docstring."
   ]
  },
  {
   "cell_type": "code",
   "execution_count": 2,
   "id": "7358c039",
   "metadata": {
    "execution": {
     "iopub.execute_input": "2025-05-17T21:46:09.084325Z",
     "iopub.status.busy": "2025-05-17T21:46:09.083376Z",
     "iopub.status.idle": "2025-05-17T21:46:09.092335Z",
     "shell.execute_reply": "2025-05-17T21:46:09.091496Z"
    },
    "papermill": {
     "duration": 0.014926,
     "end_time": "2025-05-17T21:46:09.093896",
     "exception": false,
     "start_time": "2025-05-17T21:46:09.078970",
     "status": "completed"
    },
    "tags": []
   },
   "outputs": [
    {
     "data": {
      "application/javascript": [
       "parent.postMessage({\"jupyterEvent\": \"custom.exercise_interaction\", \"data\": {\"outcomeType\": 1, \"valueTowardsCompletion\": 0.2, \"interactionType\": 1, \"questionType\": 2, \"questionId\": \"1_SelectSecondItem\", \"learnToolsVersion\": \"0.3.5\", \"failureMessage\": \"\", \"exceptionClass\": \"\", \"trace\": \"\"}}, \"*\")"
      ],
      "text/plain": [
       "<IPython.core.display.Javascript object>"
      ]
     },
     "metadata": {},
     "output_type": "display_data"
    },
    {
     "data": {
      "text/markdown": [
       "<span style=\"color:#33cc33\">Correct</span>"
      ],
      "text/plain": [
       "Correct"
      ]
     },
     "metadata": {},
     "output_type": "display_data"
    }
   ],
   "source": [
    "def select_second(L):\n",
    "    \"\"\"Return the second element of the given list. If the list has no second\n",
    "    element, return None.\n",
    "    \"\"\"\n",
    "    if len(L) < 2:\n",
    "        return None\n",
    "    return L[1]   \n",
    "    pass\n",
    "\n",
    "# Check your answer\n",
    "q1.check()"
   ]
  },
  {
   "cell_type": "code",
   "execution_count": 3,
   "id": "5cbe5f32",
   "metadata": {
    "execution": {
     "iopub.execute_input": "2025-05-17T21:46:09.102831Z",
     "iopub.status.busy": "2025-05-17T21:46:09.102533Z",
     "iopub.status.idle": "2025-05-17T21:46:09.106355Z",
     "shell.execute_reply": "2025-05-17T21:46:09.105527Z"
    },
    "papermill": {
     "duration": 0.010013,
     "end_time": "2025-05-17T21:46:09.107807",
     "exception": false,
     "start_time": "2025-05-17T21:46:09.097794",
     "status": "completed"
    },
    "tags": []
   },
   "outputs": [],
   "source": [
    "#q1.hint()\n",
    "#q1.solution()"
   ]
  },
  {
   "cell_type": "markdown",
   "id": "61c0f0d1",
   "metadata": {
    "papermill": {
     "duration": 0.003506,
     "end_time": "2025-05-17T21:46:09.115317",
     "exception": false,
     "start_time": "2025-05-17T21:46:09.111811",
     "status": "completed"
    },
    "tags": []
   },
   "source": [
    "# 2.\n",
    "\n",
    "You are analyzing sports teams.  Members of each team are stored in a list. The Coach is the first name in the list, the captain is the second name in the list, and other players are listed after that. \n",
    "These lists are stored in another list, which starts with the best team and proceeds through the list to the worst team last.  Complete the function below to select the **captain** of the worst team."
   ]
  },
  {
   "cell_type": "code",
   "execution_count": 4,
   "id": "baa33736",
   "metadata": {
    "execution": {
     "iopub.execute_input": "2025-05-17T21:46:09.124377Z",
     "iopub.status.busy": "2025-05-17T21:46:09.123667Z",
     "iopub.status.idle": "2025-05-17T21:46:09.131357Z",
     "shell.execute_reply": "2025-05-17T21:46:09.130552Z"
    },
    "papermill": {
     "duration": 0.013774,
     "end_time": "2025-05-17T21:46:09.132796",
     "exception": false,
     "start_time": "2025-05-17T21:46:09.119022",
     "status": "completed"
    },
    "tags": []
   },
   "outputs": [
    {
     "data": {
      "application/javascript": [
       "parent.postMessage({\"jupyterEvent\": \"custom.exercise_interaction\", \"data\": {\"outcomeType\": 1, \"valueTowardsCompletion\": 0.2, \"interactionType\": 1, \"questionType\": 2, \"questionId\": \"2_LosingTeamCaptain\", \"learnToolsVersion\": \"0.3.5\", \"failureMessage\": \"\", \"exceptionClass\": \"\", \"trace\": \"\"}}, \"*\")"
      ],
      "text/plain": [
       "<IPython.core.display.Javascript object>"
      ]
     },
     "metadata": {},
     "output_type": "display_data"
    },
    {
     "data": {
      "text/markdown": [
       "<span style=\"color:#33cc33\">Correct</span>"
      ],
      "text/plain": [
       "Correct"
      ]
     },
     "metadata": {},
     "output_type": "display_data"
    }
   ],
   "source": [
    "def losing_team_captain(teams):\n",
    "    \"\"\"Given a list of teams, where each team is a list of names, return the 2nd player (captain)\n",
    "    from the last listed team\n",
    "    \"\"\"\n",
    "    return teams[-1][1]\n",
    "    pass\n",
    "\n",
    "# Check your answer\n",
    "q2.check()"
   ]
  },
  {
   "cell_type": "code",
   "execution_count": 5,
   "id": "81968ee4",
   "metadata": {
    "execution": {
     "iopub.execute_input": "2025-05-17T21:46:09.141753Z",
     "iopub.status.busy": "2025-05-17T21:46:09.141438Z",
     "iopub.status.idle": "2025-05-17T21:46:09.148309Z",
     "shell.execute_reply": "2025-05-17T21:46:09.147440Z"
    },
    "papermill": {
     "duration": 0.013153,
     "end_time": "2025-05-17T21:46:09.149909",
     "exception": false,
     "start_time": "2025-05-17T21:46:09.136756",
     "status": "completed"
    },
    "tags": []
   },
   "outputs": [
    {
     "data": {
      "application/javascript": [
       "parent.postMessage({\"jupyterEvent\": \"custom.exercise_interaction\", \"data\": {\"interactionType\": 2, \"questionType\": 2, \"questionId\": \"2_LosingTeamCaptain\", \"learnToolsVersion\": \"0.3.5\", \"valueTowardsCompletion\": 0.0, \"failureMessage\": \"\", \"exceptionClass\": \"\", \"trace\": \"\", \"outcomeType\": 4}}, \"*\")"
      ],
      "text/plain": [
       "<IPython.core.display.Javascript object>"
      ]
     },
     "metadata": {},
     "output_type": "display_data"
    },
    {
     "data": {
      "text/markdown": [
       "<span style=\"color:#3366cc\">Hint:</span> The last item in a list `L` can be selected with `L[-1]`. The first item in the first sublist would be selected as `L[0][0]`"
      ],
      "text/plain": [
       "Hint: The last item in a list `L` can be selected with `L[-1]`. The first item in the first sublist would be selected as `L[0][0]`"
      ]
     },
     "metadata": {},
     "output_type": "display_data"
    }
   ],
   "source": [
    "q2.hint()\n",
    "#q2.solution()"
   ]
  },
  {
   "cell_type": "markdown",
   "id": "fa9890dc",
   "metadata": {
    "papermill": {
     "duration": 0.003826,
     "end_time": "2025-05-17T21:46:09.157964",
     "exception": false,
     "start_time": "2025-05-17T21:46:09.154138",
     "status": "completed"
    },
    "tags": []
   },
   "source": [
    "# 3.\n",
    "\n",
    "The next iteration of Mario Kart will feature an extra-infuriating new item, the *Purple Shell*. When used, it warps the last place racer into first place and the first place racer into last place. Complete the function below to implement the Purple Shell's effect."
   ]
  },
  {
   "cell_type": "code",
   "execution_count": 6,
   "id": "672621f4",
   "metadata": {
    "execution": {
     "iopub.execute_input": "2025-05-17T21:46:09.166987Z",
     "iopub.status.busy": "2025-05-17T21:46:09.166695Z",
     "iopub.status.idle": "2025-05-17T21:46:09.174577Z",
     "shell.execute_reply": "2025-05-17T21:46:09.173706Z"
    },
    "papermill": {
     "duration": 0.014557,
     "end_time": "2025-05-17T21:46:09.176373",
     "exception": false,
     "start_time": "2025-05-17T21:46:09.161816",
     "status": "completed"
    },
    "tags": []
   },
   "outputs": [
    {
     "data": {
      "application/javascript": [
       "parent.postMessage({\"jupyterEvent\": \"custom.exercise_interaction\", \"data\": {\"outcomeType\": 1, \"valueTowardsCompletion\": 0.2, \"interactionType\": 1, \"questionType\": 2, \"questionId\": \"3_PurpleShell\", \"learnToolsVersion\": \"0.3.5\", \"failureMessage\": \"\", \"exceptionClass\": \"\", \"trace\": \"\"}}, \"*\")"
      ],
      "text/plain": [
       "<IPython.core.display.Javascript object>"
      ]
     },
     "metadata": {},
     "output_type": "display_data"
    },
    {
     "data": {
      "text/markdown": [
       "<span style=\"color:#33cc33\">Correct</span>"
      ],
      "text/plain": [
       "Correct"
      ]
     },
     "metadata": {},
     "output_type": "display_data"
    }
   ],
   "source": [
    "def purple_shell(racers):\n",
    "    \"\"\"Given a list of racers, set the first place racer (at the front of the list) to last\n",
    "    place and vice versa.\n",
    "    \n",
    "    >>> r = [\"Mario\", \"Bowser\", \"Luigi\"]\n",
    "    >>> purple_shell(r)\n",
    "    >>> r\n",
    "    [\"Luigi\", \"Bowser\", \"Mario\"]\n",
    "    \"\"\"\n",
    "    temp = racers[0]\n",
    "    racers[0] = racers[-1]\n",
    "    racers[-1] = temp\n",
    "    pass\n",
    "\n",
    "# Check your answer\n",
    "q3.check()"
   ]
  },
  {
   "cell_type": "code",
   "execution_count": 7,
   "id": "e1b1bff8",
   "metadata": {
    "execution": {
     "iopub.execute_input": "2025-05-17T21:46:09.186132Z",
     "iopub.status.busy": "2025-05-17T21:46:09.185846Z",
     "iopub.status.idle": "2025-05-17T21:46:09.190058Z",
     "shell.execute_reply": "2025-05-17T21:46:09.189083Z"
    },
    "papermill": {
     "duration": 0.010664,
     "end_time": "2025-05-17T21:46:09.191453",
     "exception": false,
     "start_time": "2025-05-17T21:46:09.180789",
     "status": "completed"
    },
    "tags": []
   },
   "outputs": [],
   "source": [
    "#q3.hint()\n",
    "#q3.solution()"
   ]
  },
  {
   "cell_type": "markdown",
   "id": "12d5bc9d",
   "metadata": {
    "papermill": {
     "duration": 0.003923,
     "end_time": "2025-05-17T21:46:09.199924",
     "exception": false,
     "start_time": "2025-05-17T21:46:09.196001",
     "status": "completed"
    },
    "tags": []
   },
   "source": [
    "# 4.\n",
    "\n",
    "What are the lengths of the following lists? Fill in the variable `lengths` with your predictions. (Try to make a prediction for each list *without* just calling `len()` on it.)"
   ]
  },
  {
   "cell_type": "code",
   "execution_count": 8,
   "id": "233d431f",
   "metadata": {
    "execution": {
     "iopub.execute_input": "2025-05-17T21:46:09.209317Z",
     "iopub.status.busy": "2025-05-17T21:46:09.208993Z",
     "iopub.status.idle": "2025-05-17T21:46:09.218680Z",
     "shell.execute_reply": "2025-05-17T21:46:09.217717Z"
    },
    "papermill": {
     "duration": 0.017108,
     "end_time": "2025-05-17T21:46:09.221165",
     "exception": false,
     "start_time": "2025-05-17T21:46:09.204057",
     "status": "completed"
    },
    "tags": []
   },
   "outputs": [
    {
     "name": "stdout",
     "output_type": "stream",
     "text": [
      "[3, 2, 0, 2]\n"
     ]
    },
    {
     "data": {
      "application/javascript": [
       "parent.postMessage({\"jupyterEvent\": \"custom.exercise_interaction\", \"data\": {\"outcomeType\": 1, \"valueTowardsCompletion\": 0.2, \"interactionType\": 1, \"questionType\": 1, \"questionId\": \"4_UnderstandLen\", \"learnToolsVersion\": \"0.3.5\", \"failureMessage\": \"\", \"exceptionClass\": \"\", \"trace\": \"\"}}, \"*\")"
      ],
      "text/plain": [
       "<IPython.core.display.Javascript object>"
      ]
     },
     "metadata": {},
     "output_type": "display_data"
    },
    {
     "data": {
      "text/markdown": [
       "<span style=\"color:#33cc33\">Correct:</span> \n",
       "\n",
       "\n",
       "- a: There are three items in this list. Nothing tricky yet.\n",
       "- b: The list `[2, 3]` counts as a single item. It has one item before it. So we have 2 items in the list\n",
       "- c: The empty list has 0 items\n",
       "- d: The expression is the same as the list `[2, 3]`, which has length 2."
      ],
      "text/plain": [
       "Correct: \n",
       "\n",
       "\n",
       "- a: There are three items in this list. Nothing tricky yet.\n",
       "- b: The list `[2, 3]` counts as a single item. It has one item before it. So we have 2 items in the list\n",
       "- c: The empty list has 0 items\n",
       "- d: The expression is the same as the list `[2, 3]`, which has length 2."
      ]
     },
     "metadata": {},
     "output_type": "display_data"
    }
   ],
   "source": [
    "a = [1, 2, 3]\n",
    "b = [1, [2, 3]]\n",
    "c = []\n",
    "d = [1, 2, 3][1:]\n",
    "\n",
    "# Put your predictions in the list below. Lengths should contain 4 numbers, the\n",
    "# first being the length of a, the second being the length of b and so on.\n",
    "lengths = []\n",
    "lengths.append(len(a))\n",
    "lengths.append(len(b))\n",
    "lengths.append(len(c))\n",
    "lengths.append(len(d))\n",
    "print(lengths)\n",
    "\n",
    "# Check your answer\n",
    "q4.check()"
   ]
  },
  {
   "cell_type": "code",
   "execution_count": 9,
   "id": "42408248",
   "metadata": {
    "execution": {
     "iopub.execute_input": "2025-05-17T21:46:09.231385Z",
     "iopub.status.busy": "2025-05-17T21:46:09.231076Z",
     "iopub.status.idle": "2025-05-17T21:46:09.234786Z",
     "shell.execute_reply": "2025-05-17T21:46:09.233982Z"
    },
    "papermill": {
     "duration": 0.010342,
     "end_time": "2025-05-17T21:46:09.236207",
     "exception": false,
     "start_time": "2025-05-17T21:46:09.225865",
     "status": "completed"
    },
    "tags": []
   },
   "outputs": [],
   "source": [
    "# line below provides some explanation\n",
    "#q4.solution()"
   ]
  },
  {
   "cell_type": "markdown",
   "id": "b0eeeb82",
   "metadata": {
    "papermill": {
     "duration": 0.005494,
     "end_time": "2025-05-17T21:46:09.246221",
     "exception": false,
     "start_time": "2025-05-17T21:46:09.240727",
     "status": "completed"
    },
    "tags": []
   },
   "source": [
    "# 5. <span title=\"A bit spicy\" style=\"color: darkgreen \">🌶️</span>\n",
    "\n",
    "We're using lists to record people who attended our party and what order they arrived in. For example, the following list represents a party with 7 guests, in which Adela showed up first and Ford was the last to arrive:\n",
    "\n",
    "    party_attendees = ['Adela', 'Fleda', 'Owen', 'May', 'Mona', 'Gilbert', 'Ford']\n",
    "\n",
    "A guest is considered 'fashionably late' if they arrived after at least half of the party's guests. However, they must not be the very last guest (that's taking it too far). In the above example, Mona and Gilbert are the only guests who were fashionably late.\n",
    "\n",
    "Complete the function below which takes a list of party attendees as well as a person, and tells us whether that person is fashionably late."
   ]
  },
  {
   "cell_type": "code",
   "execution_count": 10,
   "id": "7e547379",
   "metadata": {
    "execution": {
     "iopub.execute_input": "2025-05-17T21:46:09.256370Z",
     "iopub.status.busy": "2025-05-17T21:46:09.255961Z",
     "iopub.status.idle": "2025-05-17T21:46:09.263987Z",
     "shell.execute_reply": "2025-05-17T21:46:09.263116Z"
    },
    "papermill": {
     "duration": 0.014574,
     "end_time": "2025-05-17T21:46:09.265311",
     "exception": false,
     "start_time": "2025-05-17T21:46:09.250737",
     "status": "completed"
    },
    "tags": []
   },
   "outputs": [
    {
     "data": {
      "application/javascript": [
       "parent.postMessage({\"jupyterEvent\": \"custom.exercise_interaction\", \"data\": {\"outcomeType\": 1, \"valueTowardsCompletion\": 0.2, \"interactionType\": 1, \"questionType\": 2, \"questionId\": \"5_FashionablyLate\", \"learnToolsVersion\": \"0.3.5\", \"failureMessage\": \"\", \"exceptionClass\": \"\", \"trace\": \"\"}}, \"*\")"
      ],
      "text/plain": [
       "<IPython.core.display.Javascript object>"
      ]
     },
     "metadata": {},
     "output_type": "display_data"
    },
    {
     "data": {
      "text/markdown": [
       "<span style=\"color:#33cc33\">Correct</span>"
      ],
      "text/plain": [
       "Correct"
      ]
     },
     "metadata": {},
     "output_type": "display_data"
    }
   ],
   "source": [
    "def fashionably_late(arrivals, name):\n",
    "    \"\"\"Given an ordered list of arrivals to the party and a name, return whether the guest with that\n",
    "    name was fashionably late.\n",
    "    \"\"\"\n",
    "    d = (len(arrivals)/2)\n",
    "    e = arrivals.index(name)\n",
    "\n",
    "    if e < d or e == (len(arrivals)-1):\n",
    "        return False\n",
    "    else:\n",
    "        return True\n",
    "    pass\n",
    "\n",
    "# Check your answer\n",
    "q5.check()"
   ]
  },
  {
   "cell_type": "code",
   "execution_count": 11,
   "id": "153685c0",
   "metadata": {
    "execution": {
     "iopub.execute_input": "2025-05-17T21:46:09.275708Z",
     "iopub.status.busy": "2025-05-17T21:46:09.275431Z",
     "iopub.status.idle": "2025-05-17T21:46:09.284934Z",
     "shell.execute_reply": "2025-05-17T21:46:09.284154Z"
    },
    "papermill": {
     "duration": 0.016461,
     "end_time": "2025-05-17T21:46:09.286399",
     "exception": false,
     "start_time": "2025-05-17T21:46:09.269938",
     "status": "completed"
    },
    "tags": []
   },
   "outputs": [
    {
     "data": {
      "application/javascript": [
       "parent.postMessage({\"jupyterEvent\": \"custom.exercise_interaction\", \"data\": {\"interactionType\": 2, \"questionType\": 2, \"questionId\": \"5_FashionablyLate\", \"learnToolsVersion\": \"0.3.5\", \"valueTowardsCompletion\": 0.0, \"failureMessage\": \"\", \"exceptionClass\": \"\", \"trace\": \"\", \"outcomeType\": 4}}, \"*\")"
      ],
      "text/plain": [
       "<IPython.core.display.Javascript object>"
      ]
     },
     "metadata": {},
     "output_type": "display_data"
    },
    {
     "data": {
      "text/markdown": [
       "<span style=\"color:#3366cc\">Hint:</span> Use the index method to find when the person arrived. Check whether that is a fashionably late spot given the list length (`len`). Think about 0-indexing"
      ],
      "text/plain": [
       "Hint: Use the index method to find when the person arrived. Check whether that is a fashionably late spot given the list length (`len`). Think about 0-indexing"
      ]
     },
     "metadata": {},
     "output_type": "display_data"
    },
    {
     "data": {
      "application/javascript": [
       "parent.postMessage({\"jupyterEvent\": \"custom.exercise_interaction\", \"data\": {\"interactionType\": 3, \"questionType\": 2, \"questionId\": \"5_FashionablyLate\", \"learnToolsVersion\": \"0.3.5\", \"valueTowardsCompletion\": 0.0, \"failureMessage\": \"\", \"exceptionClass\": \"\", \"trace\": \"\", \"outcomeType\": 4}}, \"*\")"
      ],
      "text/plain": [
       "<IPython.core.display.Javascript object>"
      ]
     },
     "metadata": {},
     "output_type": "display_data"
    },
    {
     "data": {
      "text/markdown": [
       "<span style=\"color:#33cc99\">Solution:</span> \n",
       "```python\n",
       "def fashionably_late(arrivals, name):\n",
       "    order = arrivals.index(name)\n",
       "    return order >= len(arrivals) / 2 and order != len(arrivals) - 1\n",
       "```"
      ],
      "text/plain": [
       "Solution: \n",
       "```python\n",
       "def fashionably_late(arrivals, name):\n",
       "    order = arrivals.index(name)\n",
       "    return order >= len(arrivals) / 2 and order != len(arrivals) - 1\n",
       "```"
      ]
     },
     "metadata": {},
     "output_type": "display_data"
    }
   ],
   "source": [
    "q5.hint()\n",
    "q5.solution()"
   ]
  },
  {
   "cell_type": "markdown",
   "id": "12f1e915",
   "metadata": {
    "papermill": {
     "duration": 0.004756,
     "end_time": "2025-05-17T21:46:09.296334",
     "exception": false,
     "start_time": "2025-05-17T21:46:09.291578",
     "status": "completed"
    },
    "tags": []
   },
   "source": [
    "# Keep Going\n",
    "\n",
    "That's it for lists and tuples! Now you have the baseline knowledge to **[learn about loops](https://www.kaggle.com/colinmorris/loops-and-list-comprehensions)**, which is where lists and tuples get really interesting. "
   ]
  },
  {
   "cell_type": "markdown",
   "id": "5eca6458",
   "metadata": {
    "papermill": {
     "duration": 0.004594,
     "end_time": "2025-05-17T21:46:09.306006",
     "exception": false,
     "start_time": "2025-05-17T21:46:09.301412",
     "status": "completed"
    },
    "tags": []
   },
   "source": [
    "---\n",
    "\n",
    "\n",
    "\n",
    "\n",
    "*Have questions or comments? Visit the [course discussion forum](https://www.kaggle.com/learn/python/discussion) to chat with other learners.*"
   ]
  }
 ],
 "metadata": {
  "kaggle": {
   "accelerator": "none",
   "dataSources": [],
   "isGpuEnabled": false,
   "isInternetEnabled": false,
   "language": "python",
   "sourceType": "notebook"
  },
  "kernelspec": {
   "display_name": "Python 3",
   "language": "python",
   "name": "python3"
  },
  "language_info": {
   "codemirror_mode": {
    "name": "ipython",
    "version": 3
   },
   "file_extension": ".py",
   "mimetype": "text/x-python",
   "name": "python",
   "nbconvert_exporter": "python",
   "pygments_lexer": "ipython3",
   "version": "3.11.11"
  },
  "learntools_metadata": {
   "lesson_index": 3,
   "type": "exercise"
  },
  "papermill": {
   "default_parameters": {},
   "duration": 7.53822,
   "end_time": "2025-05-17T21:46:09.829947",
   "environment_variables": {},
   "exception": null,
   "input_path": "__notebook__.ipynb",
   "output_path": "__notebook__.ipynb",
   "parameters": {},
   "start_time": "2025-05-17T21:46:02.291727",
   "version": "2.6.0"
  }
 },
 "nbformat": 4,
 "nbformat_minor": 5
}
