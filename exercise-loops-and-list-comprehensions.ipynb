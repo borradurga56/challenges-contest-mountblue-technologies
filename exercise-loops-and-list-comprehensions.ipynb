{
 "cells": [
  {
   "cell_type": "markdown",
   "id": "70219668",
   "metadata": {
    "papermill": {
     "duration": 0.005178,
     "end_time": "2025-05-17T21:49:14.461308",
     "exception": false,
     "start_time": "2025-05-17T21:49:14.456130",
     "status": "completed"
    },
    "tags": []
   },
   "source": [
    "**This notebook is an exercise in the [Python](https://www.kaggle.com/learn/python) course.  You can reference the tutorial at [this link](https://www.kaggle.com/colinmorris/loops-and-list-comprehensions).**\n",
    "\n",
    "---\n"
   ]
  },
  {
   "cell_type": "markdown",
   "id": "b6ace0ad",
   "metadata": {
    "papermill": {
     "duration": 0.003645,
     "end_time": "2025-05-17T21:49:14.469231",
     "exception": false,
     "start_time": "2025-05-17T21:49:14.465586",
     "status": "completed"
    },
    "tags": []
   },
   "source": [
    "With all you've learned, you can start writing much more interesting programs. See if you can solve the problems below.\n",
    "\n",
    "As always, run the setup code below before working on the questions."
   ]
  },
  {
   "cell_type": "code",
   "execution_count": 1,
   "id": "a34b50e1",
   "metadata": {
    "execution": {
     "iopub.execute_input": "2025-05-17T21:49:14.479013Z",
     "iopub.status.busy": "2025-05-17T21:49:14.478699Z",
     "iopub.status.idle": "2025-05-17T21:49:16.445885Z",
     "shell.execute_reply": "2025-05-17T21:49:16.444848Z"
    },
    "papermill": {
     "duration": 1.97343,
     "end_time": "2025-05-17T21:49:16.447263",
     "exception": false,
     "start_time": "2025-05-17T21:49:14.473833",
     "status": "completed"
    },
    "tags": []
   },
   "outputs": [
    {
     "name": "stdout",
     "output_type": "stream",
     "text": [
      "Setup complete.\n"
     ]
    }
   ],
   "source": [
    "from learntools.core import binder; binder.bind(globals())\n",
    "from learntools.python.ex5 import *\n",
    "print('Setup complete.')"
   ]
  },
  {
   "cell_type": "markdown",
   "id": "58617562",
   "metadata": {
    "papermill": {
     "duration": 0.003999,
     "end_time": "2025-05-17T21:49:16.455445",
     "exception": false,
     "start_time": "2025-05-17T21:49:16.451446",
     "status": "completed"
    },
    "tags": []
   },
   "source": [
    "# 1.\n",
    "\n",
    "Have you ever felt debugging involved a bit of luck? The following program has a bug. Try to identify the bug and fix it."
   ]
  },
  {
   "cell_type": "code",
   "execution_count": 2,
   "id": "03eb0e43",
   "metadata": {
    "execution": {
     "iopub.execute_input": "2025-05-17T21:49:16.465154Z",
     "iopub.status.busy": "2025-05-17T21:49:16.464261Z",
     "iopub.status.idle": "2025-05-17T21:49:16.469479Z",
     "shell.execute_reply": "2025-05-17T21:49:16.468624Z"
    },
    "papermill": {
     "duration": 0.011515,
     "end_time": "2025-05-17T21:49:16.470966",
     "exception": false,
     "start_time": "2025-05-17T21:49:16.459451",
     "status": "completed"
    },
    "tags": []
   },
   "outputs": [],
   "source": [
    "def has_lucky_number(nums):\n",
    "    \"\"\"Return whether the given list of numbers is lucky. A lucky list contains\n",
    "    at least one number divisible by 7.\n",
    "    \"\"\"\n",
    "    for num in nums:\n",
    "        if num % 7 == 0:\n",
    "            return True\n",
    "        else:\n",
    "            return False"
   ]
  },
  {
   "cell_type": "markdown",
   "id": "5413a558",
   "metadata": {
    "papermill": {
     "duration": 0.003699,
     "end_time": "2025-05-17T21:49:16.478819",
     "exception": false,
     "start_time": "2025-05-17T21:49:16.475120",
     "status": "completed"
    },
    "tags": []
   },
   "source": [
    "Try to identify the bug and fix it in the cell below:"
   ]
  },
  {
   "cell_type": "code",
   "execution_count": 3,
   "id": "6f60cbec",
   "metadata": {
    "execution": {
     "iopub.execute_input": "2025-05-17T21:49:16.488463Z",
     "iopub.status.busy": "2025-05-17T21:49:16.487823Z",
     "iopub.status.idle": "2025-05-17T21:49:16.495643Z",
     "shell.execute_reply": "2025-05-17T21:49:16.494850Z"
    },
    "papermill": {
     "duration": 0.014317,
     "end_time": "2025-05-17T21:49:16.497168",
     "exception": false,
     "start_time": "2025-05-17T21:49:16.482851",
     "status": "completed"
    },
    "tags": []
   },
   "outputs": [
    {
     "data": {
      "application/javascript": [
       "parent.postMessage({\"jupyterEvent\": \"custom.exercise_interaction\", \"data\": {\"outcomeType\": 1, \"valueTowardsCompletion\": 0.25, \"interactionType\": 1, \"questionType\": 2, \"questionId\": \"1_EarlyExitDebugging\", \"learnToolsVersion\": \"0.3.5\", \"failureMessage\": \"\", \"exceptionClass\": \"\", \"trace\": \"\"}}, \"*\")"
      ],
      "text/plain": [
       "<IPython.core.display.Javascript object>"
      ]
     },
     "metadata": {},
     "output_type": "display_data"
    },
    {
     "data": {
      "text/markdown": [
       "<span style=\"color:#33cc33\">Correct:</span> \n",
       "\n",
       "Remember that `return` causes a function to exit immediately. So our original implementation always ran for just one iteration. We can only return `False` if we've looked at every element of the list (and confirmed that none of them are lucky). Though we can return early if the answer is `True`:\n",
       "\n",
       "```python\n",
       "def has_lucky_number(nums):\n",
       "    for num in nums:\n",
       "        if num % 7 == 0:\n",
       "            return True\n",
       "    # We've exhausted the list without finding a lucky number\n",
       "    return False\n",
       "```\n",
       "\n",
       "Here's a one-line version using a list comprehension with Python's `any` function (you can read about what it does by calling `help(any)`):\n",
       "\n",
       "```python\n",
       "def has_lucky_number(nums):\n",
       "    return any([num % 7 == 0 for num in nums])\n",
       "```\n"
      ],
      "text/plain": [
       "Correct: \n",
       "\n",
       "Remember that `return` causes a function to exit immediately. So our original implementation always ran for just one iteration. We can only return `False` if we've looked at every element of the list (and confirmed that none of them are lucky). Though we can return early if the answer is `True`:\n",
       "\n",
       "```python\n",
       "def has_lucky_number(nums):\n",
       "    for num in nums:\n",
       "        if num % 7 == 0:\n",
       "            return True\n",
       "    # We've exhausted the list without finding a lucky number\n",
       "    return False\n",
       "```\n",
       "\n",
       "Here's a one-line version using a list comprehension with Python's `any` function (you can read about what it does by calling `help(any)`):\n",
       "\n",
       "```python\n",
       "def has_lucky_number(nums):\n",
       "    return any([num % 7 == 0 for num in nums])\n",
       "```"
      ]
     },
     "metadata": {},
     "output_type": "display_data"
    }
   ],
   "source": [
    "def has_lucky_number(nums):\n",
    "    \"\"\"Return whether the given list of numbers is lucky. A lucky list contains\n",
    "    at least one number divisible by 7.\n",
    "    \"\"\"\n",
    "    return any ([num % 7 == 0 for num in nums])\n",
    "\n",
    "# Check your answer\n",
    "q1.check()"
   ]
  },
  {
   "cell_type": "code",
   "execution_count": 4,
   "id": "96606642",
   "metadata": {
    "execution": {
     "iopub.execute_input": "2025-05-17T21:49:16.507345Z",
     "iopub.status.busy": "2025-05-17T21:49:16.507024Z",
     "iopub.status.idle": "2025-05-17T21:49:16.513688Z",
     "shell.execute_reply": "2025-05-17T21:49:16.512860Z"
    },
    "papermill": {
     "duration": 0.013397,
     "end_time": "2025-05-17T21:49:16.515179",
     "exception": false,
     "start_time": "2025-05-17T21:49:16.501782",
     "status": "completed"
    },
    "tags": []
   },
   "outputs": [
    {
     "data": {
      "application/javascript": [
       "parent.postMessage({\"jupyterEvent\": \"custom.exercise_interaction\", \"data\": {\"interactionType\": 2, \"questionType\": 2, \"questionId\": \"1_EarlyExitDebugging\", \"learnToolsVersion\": \"0.3.5\", \"valueTowardsCompletion\": 0.0, \"failureMessage\": \"\", \"exceptionClass\": \"\", \"trace\": \"\", \"outcomeType\": 4}}, \"*\")"
      ],
      "text/plain": [
       "<IPython.core.display.Javascript object>"
      ]
     },
     "metadata": {},
     "output_type": "display_data"
    },
    {
     "data": {
      "text/markdown": [
       "<span style=\"color:#3366cc\">Hint:</span> How many times does the body of the loop run for a list of length n? (If you're not sure, try adding a `print()` call on the line before the `if`.)"
      ],
      "text/plain": [
       "Hint: How many times does the body of the loop run for a list of length n? (If you're not sure, try adding a `print()` call on the line before the `if`.)"
      ]
     },
     "metadata": {},
     "output_type": "display_data"
    }
   ],
   "source": [
    "q1.hint()\n",
    "#q1.solution()"
   ]
  },
  {
   "cell_type": "markdown",
   "id": "2b5d2318",
   "metadata": {
    "papermill": {
     "duration": 0.004076,
     "end_time": "2025-05-17T21:49:16.523963",
     "exception": false,
     "start_time": "2025-05-17T21:49:16.519887",
     "status": "completed"
    },
    "tags": []
   },
   "source": [
    "# 2.\n",
    "Look at the Python expression below. What do you think we'll get when we run it? When you've made your prediction, uncomment the code and run the cell to see if you were right."
   ]
  },
  {
   "cell_type": "code",
   "execution_count": 5,
   "id": "36f83493",
   "metadata": {
    "execution": {
     "iopub.execute_input": "2025-05-17T21:49:16.533889Z",
     "iopub.status.busy": "2025-05-17T21:49:16.533252Z",
     "iopub.status.idle": "2025-05-17T21:49:16.537074Z",
     "shell.execute_reply": "2025-05-17T21:49:16.536382Z"
    },
    "papermill": {
     "duration": 0.010189,
     "end_time": "2025-05-17T21:49:16.538367",
     "exception": false,
     "start_time": "2025-05-17T21:49:16.528178",
     "status": "completed"
    },
    "tags": []
   },
   "outputs": [],
   "source": [
    "#[1, 2, 3, 4] > 2"
   ]
  },
  {
   "cell_type": "markdown",
   "id": "a22e0c62",
   "metadata": {
    "papermill": {
     "duration": 0.003987,
     "end_time": "2025-05-17T21:49:16.546753",
     "exception": false,
     "start_time": "2025-05-17T21:49:16.542766",
     "status": "completed"
    },
    "tags": []
   },
   "source": [
    "R and Python have some libraries (like numpy and pandas) compare each element of the list to 2 (i.e. do an 'element-wise' comparison) and give us a list of booleans like `[False, False, True, True]`. \n",
    "\n",
    "Implement a function that reproduces this behaviour, returning a list of booleans corresponding to whether the corresponding element is greater than n."
   ]
  },
  {
   "cell_type": "code",
   "execution_count": 6,
   "id": "b1a33375",
   "metadata": {
    "execution": {
     "iopub.execute_input": "2025-05-17T21:49:16.556485Z",
     "iopub.status.busy": "2025-05-17T21:49:16.556166Z",
     "iopub.status.idle": "2025-05-17T21:49:16.563779Z",
     "shell.execute_reply": "2025-05-17T21:49:16.562990Z"
    },
    "papermill": {
     "duration": 0.014304,
     "end_time": "2025-05-17T21:49:16.565212",
     "exception": false,
     "start_time": "2025-05-17T21:49:16.550908",
     "status": "completed"
    },
    "tags": []
   },
   "outputs": [
    {
     "data": {
      "application/javascript": [
       "parent.postMessage({\"jupyterEvent\": \"custom.exercise_interaction\", \"data\": {\"outcomeType\": 1, \"valueTowardsCompletion\": 0.25, \"interactionType\": 1, \"questionType\": 2, \"questionId\": \"2_ElementWiseComparison\", \"learnToolsVersion\": \"0.3.5\", \"failureMessage\": \"\", \"exceptionClass\": \"\", \"trace\": \"\"}}, \"*\")"
      ],
      "text/plain": [
       "<IPython.core.display.Javascript object>"
      ]
     },
     "metadata": {},
     "output_type": "display_data"
    },
    {
     "data": {
      "text/markdown": [
       "<span style=\"color:#33cc33\">Correct:</span> \n",
       "\n",
       "Here's one solution:\n",
       "```python\n",
       "def elementwise_greater_than(L, thresh):\n",
       "    res = []\n",
       "    for ele in L:\n",
       "        res.append(ele > thresh)\n",
       "    return res\n",
       "```\n",
       "\n",
       "And here's the list comprehension version:\n",
       "```python\n",
       "def elementwise_greater_than(L, thresh):\n",
       "    return [ele > thresh for ele in L]\n",
       "```\n"
      ],
      "text/plain": [
       "Correct: \n",
       "\n",
       "Here's one solution:\n",
       "```python\n",
       "def elementwise_greater_than(L, thresh):\n",
       "    res = []\n",
       "    for ele in L:\n",
       "        res.append(ele > thresh)\n",
       "    return res\n",
       "```\n",
       "\n",
       "And here's the list comprehension version:\n",
       "```python\n",
       "def elementwise_greater_than(L, thresh):\n",
       "    return [ele > thresh for ele in L]\n",
       "```"
      ]
     },
     "metadata": {},
     "output_type": "display_data"
    }
   ],
   "source": [
    "def elementwise_greater_than(L, thresh):\n",
    "    \"\"\"Return a list with the same length as L, where the value at index i is \n",
    "    True if L[i] is greater than thresh, and False otherwise.\n",
    "    \n",
    "    >>> elementwise_greater_than([1, 2, 3, 4], 2)\n",
    "    [False, False, True, True]\n",
    "    \"\"\"\n",
    "    return [array > thresh for array in L]\n",
    "    pass\n",
    "\n",
    "# Check your answer\n",
    "q2.check()"
   ]
  },
  {
   "cell_type": "code",
   "execution_count": 7,
   "id": "ac9e3465",
   "metadata": {
    "execution": {
     "iopub.execute_input": "2025-05-17T21:49:16.575643Z",
     "iopub.status.busy": "2025-05-17T21:49:16.575348Z",
     "iopub.status.idle": "2025-05-17T21:49:16.579095Z",
     "shell.execute_reply": "2025-05-17T21:49:16.578337Z"
    },
    "papermill": {
     "duration": 0.010585,
     "end_time": "2025-05-17T21:49:16.580535",
     "exception": false,
     "start_time": "2025-05-17T21:49:16.569950",
     "status": "completed"
    },
    "tags": []
   },
   "outputs": [],
   "source": [
    "#q2.solution()"
   ]
  },
  {
   "cell_type": "markdown",
   "id": "08cdd22b",
   "metadata": {
    "papermill": {
     "duration": 0.004694,
     "end_time": "2025-05-17T21:49:16.589800",
     "exception": false,
     "start_time": "2025-05-17T21:49:16.585106",
     "status": "completed"
    },
    "tags": []
   },
   "source": [
    "# 3.\n",
    "\n",
    "Complete the body of the function below according to its docstring."
   ]
  },
  {
   "cell_type": "code",
   "execution_count": 8,
   "id": "da92416d",
   "metadata": {
    "execution": {
     "iopub.execute_input": "2025-05-17T21:49:16.600642Z",
     "iopub.status.busy": "2025-05-17T21:49:16.600301Z",
     "iopub.status.idle": "2025-05-17T21:49:16.609236Z",
     "shell.execute_reply": "2025-05-17T21:49:16.608338Z"
    },
    "papermill": {
     "duration": 0.016148,
     "end_time": "2025-05-17T21:49:16.610649",
     "exception": false,
     "start_time": "2025-05-17T21:49:16.594501",
     "status": "completed"
    },
    "tags": []
   },
   "outputs": [
    {
     "name": "stdout",
     "output_type": "stream",
     "text": [
      "['Egg', 'Spam']\n",
      "['Spam', 'Eggs', 'Bacon', 'Spam']\n",
      "['Spam', 'Eggs', 'Spam', 'Spam', 'Bacon', 'Spam']\n",
      "['Spam', 'Spam']\n",
      "['Lobster Thermidor aux crevettes with a Mornay sauce, garnished with truffle pâté, brandy and a fried egg on top', 'Spam']\n",
      "['Spam']\n",
      "[]\n"
     ]
    },
    {
     "data": {
      "application/javascript": [
       "parent.postMessage({\"jupyterEvent\": \"custom.exercise_interaction\", \"data\": {\"outcomeType\": 1, \"valueTowardsCompletion\": 0.25, \"interactionType\": 1, \"questionType\": 2, \"questionId\": \"3_BoringMenu\", \"learnToolsVersion\": \"0.3.5\", \"failureMessage\": \"\", \"exceptionClass\": \"\", \"trace\": \"\"}}, \"*\")"
      ],
      "text/plain": [
       "<IPython.core.display.Javascript object>"
      ]
     },
     "metadata": {},
     "output_type": "display_data"
    },
    {
     "data": {
      "text/markdown": [
       "<span style=\"color:#33cc33\">Correct:</span> \n",
       "\n",
       "\n",
       "\n",
       "```python\n",
       "def menu_is_boring(meals):\n",
       "    # Iterate over all indices of the list, except the last one\n",
       "    for i in range(len(meals)-1):\n",
       "        if meals[i] == meals[i+1]:\n",
       "            return True\n",
       "    return False\n",
       "```\n",
       "\n",
       "The key to our solution is the call to `range`. `range(len(meals))` would give us all the indices of `meals`. If we had used that range, the last iteration of the loop would be comparing the last element to the element after it, which is... `IndexError`! `range(len(meals)-1)` gives us all the indices except the index of the last element.\n",
       "\n",
       "But don't we need to check if `meals` is empty? Turns out that `range(0) == range(-1)` - they're both empty. So if `meals` has length 0 or 1, we just won't do any iterations of our for loop.\n"
      ],
      "text/plain": [
       "Correct: \n",
       "\n",
       "\n",
       "\n",
       "```python\n",
       "def menu_is_boring(meals):\n",
       "    # Iterate over all indices of the list, except the last one\n",
       "    for i in range(len(meals)-1):\n",
       "        if meals[i] == meals[i+1]:\n",
       "            return True\n",
       "    return False\n",
       "```\n",
       "\n",
       "The key to our solution is the call to `range`. `range(len(meals))` would give us all the indices of `meals`. If we had used that range, the last iteration of the loop would be comparing the last element to the element after it, which is... `IndexError`! `range(len(meals)-1)` gives us all the indices except the index of the last element.\n",
       "\n",
       "But don't we need to check if `meals` is empty? Turns out that `range(0) == range(-1)` - they're both empty. So if `meals` has length 0 or 1, we just won't do any iterations of our for loop."
      ]
     },
     "metadata": {},
     "output_type": "display_data"
    }
   ],
   "source": [
    "def menu_is_boring(meals):\n",
    "    \"\"\"Given a list of meals served over some period of time, return True if the\n",
    "    same meal has ever been served two days in a row, and False otherwise.\n",
    "    \"\"\"\n",
    "    print(meals)\n",
    "    for i in range (len(meals)-1):\n",
    "        if meals[i] == meals[i+1]:\n",
    "            return True\n",
    "    return False   \n",
    "    pass\n",
    "\n",
    "# Check your answer\n",
    "q3.check()"
   ]
  },
  {
   "cell_type": "code",
   "execution_count": 9,
   "id": "4a46228d",
   "metadata": {
    "execution": {
     "iopub.execute_input": "2025-05-17T21:49:16.621579Z",
     "iopub.status.busy": "2025-05-17T21:49:16.621290Z",
     "iopub.status.idle": "2025-05-17T21:49:16.625152Z",
     "shell.execute_reply": "2025-05-17T21:49:16.624356Z"
    },
    "papermill": {
     "duration": 0.011039,
     "end_time": "2025-05-17T21:49:16.626658",
     "exception": false,
     "start_time": "2025-05-17T21:49:16.615619",
     "status": "completed"
    },
    "tags": []
   },
   "outputs": [],
   "source": [
    "#q3.hint()\n",
    "#q3.solution()"
   ]
  },
  {
   "cell_type": "markdown",
   "id": "be5be8d3",
   "metadata": {
    "papermill": {
     "duration": 0.00461,
     "end_time": "2025-05-17T21:49:16.636222",
     "exception": false,
     "start_time": "2025-05-17T21:49:16.631612",
     "status": "completed"
    },
    "tags": []
   },
   "source": [
    "# 4. <span title=\"A bit spicy\" style=\"color: darkgreen \">🌶️</span>\n",
    "\n",
    "Next to the Blackjack table, the Python Challenge Casino has a slot machine. You can get a result from the slot machine by calling `play_slot_machine()`. The number it returns is your winnings in dollars. Usually it returns 0.  But sometimes you'll get lucky and get a big payday. Try running it below:"
   ]
  },
  {
   "cell_type": "code",
   "execution_count": 10,
   "id": "8fb5a44d",
   "metadata": {
    "execution": {
     "iopub.execute_input": "2025-05-17T21:49:16.647205Z",
     "iopub.status.busy": "2025-05-17T21:49:16.646648Z",
     "iopub.status.idle": "2025-05-17T21:49:16.651825Z",
     "shell.execute_reply": "2025-05-17T21:49:16.651060Z"
    },
    "papermill": {
     "duration": 0.012373,
     "end_time": "2025-05-17T21:49:16.653346",
     "exception": false,
     "start_time": "2025-05-17T21:49:16.640973",
     "status": "completed"
    },
    "tags": []
   },
   "outputs": [
    {
     "data": {
      "text/plain": [
       "1.5"
      ]
     },
     "execution_count": 10,
     "metadata": {},
     "output_type": "execute_result"
    }
   ],
   "source": [
    "play_slot_machine()"
   ]
  },
  {
   "cell_type": "markdown",
   "id": "73f36f48",
   "metadata": {
    "papermill": {
     "duration": 0.004767,
     "end_time": "2025-05-17T21:49:16.663400",
     "exception": false,
     "start_time": "2025-05-17T21:49:16.658633",
     "status": "completed"
    },
    "tags": []
   },
   "source": [
    "By the way, did we mention that each play costs $1? Don't worry, we'll send you the bill later.\n",
    "\n",
    "On average, how much money can you expect to gain (or lose) every time you play the machine?  The casino keeps it a secret, but you can estimate the average value of each pull using a technique called the **Monte Carlo method**. To estimate the average outcome, we simulate the scenario many times, and return the average result.\n",
    "\n",
    "Complete the following function to calculate the average value per play of the slot machine."
   ]
  },
  {
   "cell_type": "code",
   "execution_count": 11,
   "id": "039978ea",
   "metadata": {
    "execution": {
     "iopub.execute_input": "2025-05-17T21:49:16.675056Z",
     "iopub.status.busy": "2025-05-17T21:49:16.674706Z",
     "iopub.status.idle": "2025-05-17T21:49:16.680099Z",
     "shell.execute_reply": "2025-05-17T21:49:16.679024Z"
    },
    "papermill": {
     "duration": 0.013455,
     "end_time": "2025-05-17T21:49:16.681811",
     "exception": false,
     "start_time": "2025-05-17T21:49:16.668356",
     "status": "completed"
    },
    "tags": []
   },
   "outputs": [],
   "source": [
    "def estimate_average_slot_payout(n_runs):\n",
    "    \"\"\"Run the slot machine n_runs times and return the average net profit per run.\n",
    "    Example calls (note that return value is nondeterministic!):\n",
    "    >>> estimate_average_slot_payout(1)\n",
    "    -1\n",
    "    >>> estimate_average_slot_payout(1)\n",
    "    0.5\n",
    "    \"\"\"\n",
    "    win=0\n",
    "    \n",
    "    for i in range(n_runs):\n",
    "        win = win + play_slot_machine() - 1\n",
    "        return win/n_runs\n",
    "    \n",
    "\n",
    "    \n",
    "\n",
    "    pass"
   ]
  },
  {
   "cell_type": "markdown",
   "id": "c044fdcb",
   "metadata": {
    "papermill": {
     "duration": 0.004769,
     "end_time": "2025-05-17T21:49:16.691609",
     "exception": false,
     "start_time": "2025-05-17T21:49:16.686840",
     "status": "completed"
    },
    "tags": []
   },
   "source": [
    "When you think you know the expected value per spin, run the code cell below to view the solution and get credit for answering the question."
   ]
  },
  {
   "cell_type": "code",
   "execution_count": 12,
   "id": "490e21e5",
   "metadata": {
    "execution": {
     "iopub.execute_input": "2025-05-17T21:49:16.703512Z",
     "iopub.status.busy": "2025-05-17T21:49:16.702938Z",
     "iopub.status.idle": "2025-05-17T21:49:16.709532Z",
     "shell.execute_reply": "2025-05-17T21:49:16.708715Z"
    },
    "papermill": {
     "duration": 0.014131,
     "end_time": "2025-05-17T21:49:16.711103",
     "exception": false,
     "start_time": "2025-05-17T21:49:16.696972",
     "status": "completed"
    },
    "tags": []
   },
   "outputs": [
    {
     "data": {
      "application/javascript": [
       "parent.postMessage({\"jupyterEvent\": \"custom.exercise_interaction\", \"data\": {\"interactionType\": 3, \"questionType\": 4, \"questionId\": \"4_ExpectedSlotsPayout\", \"learnToolsVersion\": \"0.3.5\", \"valueTowardsCompletion\": 0.0, \"failureMessage\": \"\", \"exceptionClass\": \"\", \"trace\": \"\", \"outcomeType\": 4}}, \"*\")"
      ],
      "text/plain": [
       "<IPython.core.display.Javascript object>"
      ]
     },
     "metadata": {},
     "output_type": "display_data"
    },
    {
     "data": {
      "text/markdown": [
       "<span style=\"color:#33cc99\">Solution:</span> \n",
       "    \n",
       "The exact expected value of one pull of the slot machine is 0.025 - i.e. a little more than 2 cents.  See?  Not every game in the Python Challenge Casino is rigged against the player!\n",
       "\n",
       "In order to get this answer, you'll need to implement the `estimate_average_slot_payout(n_runs)` function to simulate pulling the slot machine `n_runs` times.  It should return the payout averaged over those `n_runs`.\n",
       "\n",
       "Then, once the function is defined, in order to estimate the average slot payout, we need only call the function.\n",
       "\n",
       "Because of the high variance of the outcome (there are some very rare high payout results that significantly affect the average) you might need to run your function with a very high value of `n_runs` to get a stable answer close to the true expectation.  For instance, you might use a value for `n_runs` of 1000000.\n",
       "\n",
       "Here's an example for how the function could look:\n",
       "```python\n",
       "def estimate_average_slot_payout(n_runs):\n",
       "    # Play slot machine n_runs times, calculate payout of each\n",
       "    payouts = [play_slot_machine()-1 for i in range(n_runs)]\n",
       "    # Calculate the average value\n",
       "    avg_payout = sum(payouts) / n_runs\n",
       "    return avg_payout\n",
       "    \n",
       "estimate_average_slot_payout(10000000)\n",
       "\n",
       "```\n",
       "\n",
       "This should return an answer close to 0.025!\n",
       "            \n"
      ],
      "text/plain": [
       "Solution: \n",
       "    \n",
       "The exact expected value of one pull of the slot machine is 0.025 - i.e. a little more than 2 cents.  See?  Not every game in the Python Challenge Casino is rigged against the player!\n",
       "\n",
       "In order to get this answer, you'll need to implement the `estimate_average_slot_payout(n_runs)` function to simulate pulling the slot machine `n_runs` times.  It should return the payout averaged over those `n_runs`.\n",
       "\n",
       "Then, once the function is defined, in order to estimate the average slot payout, we need only call the function.\n",
       "\n",
       "Because of the high variance of the outcome (there are some very rare high payout results that significantly affect the average) you might need to run your function with a very high value of `n_runs` to get a stable answer close to the true expectation.  For instance, you might use a value for `n_runs` of 1000000.\n",
       "\n",
       "Here's an example for how the function could look:\n",
       "```python\n",
       "def estimate_average_slot_payout(n_runs):\n",
       "    # Play slot machine n_runs times, calculate payout of each\n",
       "    payouts = [play_slot_machine()-1 for i in range(n_runs)]\n",
       "    # Calculate the average value\n",
       "    avg_payout = sum(payouts) / n_runs\n",
       "    return avg_payout\n",
       "    \n",
       "estimate_average_slot_payout(10000000)\n",
       "\n",
       "```\n",
       "\n",
       "This should return an answer close to 0.025!\n",
       "            "
      ]
     },
     "metadata": {},
     "output_type": "display_data"
    }
   ],
   "source": [
    "# Check your answer (Run this code cell to receive credit!)\n",
    "q4.solution()"
   ]
  },
  {
   "cell_type": "markdown",
   "id": "8fce9563",
   "metadata": {
    "papermill": {
     "duration": 0.005171,
     "end_time": "2025-05-17T21:49:16.721574",
     "exception": false,
     "start_time": "2025-05-17T21:49:16.716403",
     "status": "completed"
    },
    "tags": []
   },
   "source": [
    "# Keep Going\n",
    "\n",
    "Many programmers report that dictionaries are their favorite data structure. You'll get to **[learn about them](https://www.kaggle.com/colinmorris/strings-and-dictionaries)** (as well as strings) in the next lesson."
   ]
  },
  {
   "cell_type": "markdown",
   "id": "52a197e8",
   "metadata": {
    "papermill": {
     "duration": 0.00508,
     "end_time": "2025-05-17T21:49:16.731944",
     "exception": false,
     "start_time": "2025-05-17T21:49:16.726864",
     "status": "completed"
    },
    "tags": []
   },
   "source": [
    "---\n",
    "\n",
    "\n",
    "\n",
    "\n",
    "*Have questions or comments? Visit the [course discussion forum](https://www.kaggle.com/learn/python/discussion) to chat with other learners.*"
   ]
  }
 ],
 "metadata": {
  "kaggle": {
   "accelerator": "none",
   "dataSources": [],
   "isGpuEnabled": false,
   "isInternetEnabled": false,
   "language": "python",
   "sourceType": "notebook"
  },
  "kernelspec": {
   "display_name": "Python 3",
   "language": "python",
   "name": "python3"
  },
  "language_info": {
   "codemirror_mode": {
    "name": "ipython",
    "version": 3
   },
   "file_extension": ".py",
   "mimetype": "text/x-python",
   "name": "python",
   "nbconvert_exporter": "python",
   "pygments_lexer": "ipython3",
   "version": "3.11.11"
  },
  "learntools_metadata": {
   "lesson_index": 4,
   "type": "exercise"
  },
  "papermill": {
   "default_parameters": {},
   "duration": 7.621109,
   "end_time": "2025-05-17T21:49:17.255970",
   "environment_variables": {},
   "exception": null,
   "input_path": "__notebook__.ipynb",
   "output_path": "__notebook__.ipynb",
   "parameters": {},
   "start_time": "2025-05-17T21:49:09.634861",
   "version": "2.6.0"
  }
 },
 "nbformat": 4,
 "nbformat_minor": 5
}
