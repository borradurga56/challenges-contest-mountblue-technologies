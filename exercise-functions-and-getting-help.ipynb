{
 "cells": [
  {
   "cell_type": "markdown",
   "id": "5ae9efd2",
   "metadata": {
    "papermill": {
     "duration": 0.005048,
     "end_time": "2025-05-17T21:40:41.016756",
     "exception": false,
     "start_time": "2025-05-17T21:40:41.011708",
     "status": "completed"
    },
    "tags": []
   },
   "source": [
    "**This notebook is an exercise in the [Python](https://www.kaggle.com/learn/python) course.  You can reference the tutorial at [this link](https://www.kaggle.com/colinmorris/functions-and-getting-help).**\n",
    "\n",
    "---\n"
   ]
  },
  {
   "cell_type": "markdown",
   "id": "0bf63f1b",
   "metadata": {
    "papermill": {
     "duration": 0.00544,
     "end_time": "2025-05-17T21:40:41.027847",
     "exception": false,
     "start_time": "2025-05-17T21:40:41.022407",
     "status": "completed"
    },
    "tags": []
   },
   "source": [
    "Functions are powerful. Try writing some yourself.\n",
    "\n",
    "As before, don't forget to run the setup code below before jumping into question 1."
   ]
  },
  {
   "cell_type": "code",
   "execution_count": 1,
   "id": "c46f2a6a",
   "metadata": {
    "_kg_hide-input": true,
    "_kg_hide-output": true,
    "execution": {
     "iopub.execute_input": "2025-05-17T21:40:41.038746Z",
     "iopub.status.busy": "2025-05-17T21:40:41.038331Z",
     "iopub.status.idle": "2025-05-17T21:40:43.524198Z",
     "shell.execute_reply": "2025-05-17T21:40:43.522619Z"
    },
    "papermill": {
     "duration": 2.494166,
     "end_time": "2025-05-17T21:40:43.526680",
     "exception": false,
     "start_time": "2025-05-17T21:40:41.032514",
     "status": "completed"
    },
    "tags": []
   },
   "outputs": [
    {
     "name": "stdout",
     "output_type": "stream",
     "text": [
      "Setup complete.\n"
     ]
    }
   ],
   "source": [
    "# SETUP. You don't need to worry for now about what this code does or how it works.\n",
    "from learntools.core import binder; binder.bind(globals())\n",
    "from learntools.python.ex2 import *\n",
    "print('Setup complete.')"
   ]
  },
  {
   "cell_type": "markdown",
   "id": "8fd145dd",
   "metadata": {
    "papermill": {
     "duration": 0.004689,
     "end_time": "2025-05-17T21:40:43.537127",
     "exception": false,
     "start_time": "2025-05-17T21:40:43.532438",
     "status": "completed"
    },
    "tags": []
   },
   "source": [
    "# 1.\n",
    "\n",
    "Complete the body of the following function according to its docstring.\n",
    "\n",
    "HINT: Python has a built-in function `round`."
   ]
  },
  {
   "cell_type": "code",
   "execution_count": 2,
   "id": "99a42c74",
   "metadata": {
    "execution": {
     "iopub.execute_input": "2025-05-17T21:40:43.551027Z",
     "iopub.status.busy": "2025-05-17T21:40:43.549642Z",
     "iopub.status.idle": "2025-05-17T21:40:43.559212Z",
     "shell.execute_reply": "2025-05-17T21:40:43.558253Z"
    },
    "papermill": {
     "duration": 0.018144,
     "end_time": "2025-05-17T21:40:43.560911",
     "exception": false,
     "start_time": "2025-05-17T21:40:43.542767",
     "status": "completed"
    },
    "tags": []
   },
   "outputs": [
    {
     "data": {
      "application/javascript": [
       "parent.postMessage({\"jupyterEvent\": \"custom.exercise_interaction\", \"data\": {\"outcomeType\": 1, \"valueTowardsCompletion\": 0.16666666666666666, \"interactionType\": 1, \"questionType\": 2, \"questionId\": \"1_RoundFunctionProblem\", \"learnToolsVersion\": \"0.3.5\", \"failureMessage\": \"\", \"exceptionClass\": \"\", \"trace\": \"\"}}, \"*\")"
      ],
      "text/plain": [
       "<IPython.core.display.Javascript object>"
      ]
     },
     "metadata": {},
     "output_type": "display_data"
    },
    {
     "data": {
      "text/markdown": [
       "<span style=\"color:#33cc33\">Correct</span>"
      ],
      "text/plain": [
       "Correct"
      ]
     },
     "metadata": {},
     "output_type": "display_data"
    }
   ],
   "source": [
    "def round_to_two_places(num):\n",
    "    \"\"\"Return the given number rounded to two decimal places. \n",
    "    \n",
    "    >>> round_to_two_places(3.14159)\n",
    "    3.14\n",
    "    \"\"\"\n",
    "    # Replace this body with your own code.\n",
    "    # (\"pass\" is a keyword that does literally nothing. We used it as a placeholder\n",
    "    # because after we begin a code block, Python requires at least one line of code)\n",
    "    return round(num,ndigits=2)\n",
    "# Check your answer\n",
    "q1.check()"
   ]
  },
  {
   "cell_type": "code",
   "execution_count": 3,
   "id": "34d34f1c",
   "metadata": {
    "execution": {
     "iopub.execute_input": "2025-05-17T21:40:43.570307Z",
     "iopub.status.busy": "2025-05-17T21:40:43.569923Z",
     "iopub.status.idle": "2025-05-17T21:40:43.574488Z",
     "shell.execute_reply": "2025-05-17T21:40:43.573656Z"
    },
    "papermill": {
     "duration": 0.011112,
     "end_time": "2025-05-17T21:40:43.576065",
     "exception": false,
     "start_time": "2025-05-17T21:40:43.564953",
     "status": "completed"
    },
    "tags": []
   },
   "outputs": [],
   "source": [
    "# Uncomment the following for a hint\n",
    "#q1.hint()\n",
    "# Or uncomment the following to peek at the solution\n",
    "#q1.solution()"
   ]
  },
  {
   "cell_type": "markdown",
   "id": "908b05e8",
   "metadata": {
    "papermill": {
     "duration": 0.003487,
     "end_time": "2025-05-17T21:40:43.583764",
     "exception": false,
     "start_time": "2025-05-17T21:40:43.580277",
     "status": "completed"
    },
    "tags": []
   },
   "source": [
    "# 2.\n",
    "The help for `round` says that `ndigits` (the second argument) may be negative.\n",
    "What do you think will happen when it is? Try some examples in the following cell."
   ]
  },
  {
   "cell_type": "code",
   "execution_count": 4,
   "id": "1078e308",
   "metadata": {
    "execution": {
     "iopub.execute_input": "2025-05-17T21:40:43.592302Z",
     "iopub.status.busy": "2025-05-17T21:40:43.592016Z",
     "iopub.status.idle": "2025-05-17T21:40:43.598884Z",
     "shell.execute_reply": "2025-05-17T21:40:43.598054Z"
    },
    "papermill": {
     "duration": 0.012918,
     "end_time": "2025-05-17T21:40:43.600371",
     "exception": false,
     "start_time": "2025-05-17T21:40:43.587453",
     "status": "completed"
    },
    "tags": []
   },
   "outputs": [
    {
     "data": {
      "text/plain": [
       "100.0"
      ]
     },
     "execution_count": 4,
     "metadata": {},
     "output_type": "execute_result"
    }
   ],
   "source": [
    "# Put your test code here\n",
    "round(122.54,-2)"
   ]
  },
  {
   "cell_type": "markdown",
   "id": "e71452d0",
   "metadata": {
    "papermill": {
     "duration": 0.003805,
     "end_time": "2025-05-17T21:40:43.608235",
     "exception": false,
     "start_time": "2025-05-17T21:40:43.604430",
     "status": "completed"
    },
    "tags": []
   },
   "source": [
    "Can you think of a case where this would be useful?  Once you're ready, run the code cell below to see the answer and to receive credit for completing the problem."
   ]
  },
  {
   "cell_type": "code",
   "execution_count": 5,
   "id": "058e5ef9",
   "metadata": {
    "execution": {
     "iopub.execute_input": "2025-05-17T21:40:43.617324Z",
     "iopub.status.busy": "2025-05-17T21:40:43.617020Z",
     "iopub.status.idle": "2025-05-17T21:40:43.625069Z",
     "shell.execute_reply": "2025-05-17T21:40:43.624160Z"
    },
    "papermill": {
     "duration": 0.014566,
     "end_time": "2025-05-17T21:40:43.626836",
     "exception": false,
     "start_time": "2025-05-17T21:40:43.612270",
     "status": "completed"
    },
    "tags": []
   },
   "outputs": [
    {
     "data": {
      "application/javascript": [
       "parent.postMessage({\"jupyterEvent\": \"custom.exercise_interaction\", \"data\": {\"interactionType\": 3, \"questionType\": 4, \"questionId\": \"2_RoundNdigitsProblem\", \"learnToolsVersion\": \"0.3.5\", \"valueTowardsCompletion\": 0.0, \"failureMessage\": \"\", \"exceptionClass\": \"\", \"trace\": \"\", \"outcomeType\": 4}}, \"*\")"
      ],
      "text/plain": [
       "<IPython.core.display.Javascript object>"
      ]
     },
     "metadata": {},
     "output_type": "display_data"
    },
    {
     "data": {
      "text/markdown": [
       "<span style=\"color:#33cc99\">Solution:</span> As you've seen, `ndigits=-1` rounds to the nearest 10, `ndigits=-2` rounds to the nearest 100 and so on. Where might this be useful? Suppose we're dealing with large numbers:\n",
       "\n",
       "> The area of Finland is 338,424 km²  \n",
       "> The area of Greenland is 2,166,086 km²\n",
       "\n",
       "We probably don't care whether it's really 338,424, or 338,425, or 338,177. All those digits of accuracy are just distracting. We can chop them off by calling `round()` with `ndigits=-3`:\n",
       "\n",
       "> The area of Finland is 338,000 km²  \n",
       "> The area of Greenland is 2,166,000 km²\n",
       "\n",
       "(We'll talk about how we would get the commas later when we talk about string formatting :))\n"
      ],
      "text/plain": [
       "Solution: As you've seen, `ndigits=-1` rounds to the nearest 10, `ndigits=-2` rounds to the nearest 100 and so on. Where might this be useful? Suppose we're dealing with large numbers:\n",
       "\n",
       "> The area of Finland is 338,424 km²  \n",
       "> The area of Greenland is 2,166,086 km²\n",
       "\n",
       "We probably don't care whether it's really 338,424, or 338,425, or 338,177. All those digits of accuracy are just distracting. We can chop them off by calling `round()` with `ndigits=-3`:\n",
       "\n",
       "> The area of Finland is 338,000 km²  \n",
       "> The area of Greenland is 2,166,000 km²\n",
       "\n",
       "(We'll talk about how we would get the commas later when we talk about string formatting :))"
      ]
     },
     "metadata": {},
     "output_type": "display_data"
    }
   ],
   "source": [
    "# Check your answer (Run this code cell to receive credit!)\n",
    "q2.solution()"
   ]
  },
  {
   "cell_type": "markdown",
   "id": "54150497",
   "metadata": {
    "papermill": {
     "duration": 0.00633,
     "end_time": "2025-05-17T21:40:43.640087",
     "exception": false,
     "start_time": "2025-05-17T21:40:43.633757",
     "status": "completed"
    },
    "tags": []
   },
   "source": [
    "# 3.\n",
    "\n",
    "In the previous exercise, the candy-sharing friends Alice, Bob and Carol tried to split candies evenly. For the sake of their friendship, any candies left over would be smashed. For example, if they collectively bring home 91 candies, they'll take 30 each and smash 1.\n",
    "\n",
    "Below is a simple function that will calculate the number of candies to smash for *any* number of total candies.\n",
    "\n",
    "Modify it so that it optionally takes a second argument representing the number of friends the candies are being split between. If no second argument is provided, it should assume 3 friends, as before.\n",
    "\n",
    "Update the docstring to reflect this new behaviour."
   ]
  },
  {
   "cell_type": "code",
   "execution_count": 6,
   "id": "e363ce9c",
   "metadata": {
    "execution": {
     "iopub.execute_input": "2025-05-17T21:40:43.653671Z",
     "iopub.status.busy": "2025-05-17T21:40:43.652785Z",
     "iopub.status.idle": "2025-05-17T21:40:43.661786Z",
     "shell.execute_reply": "2025-05-17T21:40:43.660888Z"
    },
    "papermill": {
     "duration": 0.016928,
     "end_time": "2025-05-17T21:40:43.663885",
     "exception": false,
     "start_time": "2025-05-17T21:40:43.646957",
     "status": "completed"
    },
    "tags": []
   },
   "outputs": [
    {
     "data": {
      "application/javascript": [
       "parent.postMessage({\"jupyterEvent\": \"custom.exercise_interaction\", \"data\": {\"outcomeType\": 1, \"valueTowardsCompletion\": 0.16666666666666666, \"interactionType\": 1, \"questionType\": 2, \"questionId\": \"3_CandySmashingFunctionProblem\", \"learnToolsVersion\": \"0.3.5\", \"failureMessage\": \"\", \"exceptionClass\": \"\", \"trace\": \"\"}}, \"*\")"
      ],
      "text/plain": [
       "<IPython.core.display.Javascript object>"
      ]
     },
     "metadata": {},
     "output_type": "display_data"
    },
    {
     "data": {
      "text/markdown": [
       "<span style=\"color:#33cc33\">Correct</span>"
      ],
      "text/plain": [
       "Correct"
      ]
     },
     "metadata": {},
     "output_type": "display_data"
    }
   ],
   "source": [
    "def to_smash(total_candies,n_friends=3):\n",
    "    \"\"\"Return the number of leftover candies that must be smashed after distributing\n",
    "    the given number of candies evenly between 3 friends.\n",
    "    \n",
    "    >>> to_smash(91)\n",
    "    1\n",
    "    \"\"\"\n",
    "    return total_candies % n_friends\n",
    "\n",
    "# Check your answer\n",
    "q3.check()"
   ]
  },
  {
   "cell_type": "code",
   "execution_count": 7,
   "id": "115e703b",
   "metadata": {
    "execution": {
     "iopub.execute_input": "2025-05-17T21:40:43.675110Z",
     "iopub.status.busy": "2025-05-17T21:40:43.674771Z",
     "iopub.status.idle": "2025-05-17T21:40:43.679726Z",
     "shell.execute_reply": "2025-05-17T21:40:43.678627Z"
    },
    "papermill": {
     "duration": 0.013265,
     "end_time": "2025-05-17T21:40:43.682223",
     "exception": false,
     "start_time": "2025-05-17T21:40:43.668958",
     "status": "completed"
    },
    "tags": []
   },
   "outputs": [],
   "source": [
    "#q3.hint()"
   ]
  },
  {
   "cell_type": "code",
   "execution_count": 8,
   "id": "b9929e86",
   "metadata": {
    "execution": {
     "iopub.execute_input": "2025-05-17T21:40:43.696425Z",
     "iopub.status.busy": "2025-05-17T21:40:43.696095Z",
     "iopub.status.idle": "2025-05-17T21:40:43.703843Z",
     "shell.execute_reply": "2025-05-17T21:40:43.703129Z"
    },
    "papermill": {
     "duration": 0.016385,
     "end_time": "2025-05-17T21:40:43.705124",
     "exception": false,
     "start_time": "2025-05-17T21:40:43.688739",
     "status": "completed"
    },
    "tags": []
   },
   "outputs": [
    {
     "data": {
      "application/javascript": [
       "parent.postMessage({\"jupyterEvent\": \"custom.exercise_interaction\", \"data\": {\"interactionType\": 3, \"questionType\": 2, \"questionId\": \"3_CandySmashingFunctionProblem\", \"learnToolsVersion\": \"0.3.5\", \"valueTowardsCompletion\": 0.0, \"failureMessage\": \"\", \"exceptionClass\": \"\", \"trace\": \"\", \"outcomeType\": 4}}, \"*\")"
      ],
      "text/plain": [
       "<IPython.core.display.Javascript object>"
      ]
     },
     "metadata": {},
     "output_type": "display_data"
    },
    {
     "data": {
      "text/markdown": [
       "<span style=\"color:#33cc99\">Solution:</span> \n",
       "```python\n",
       "def to_smash(total_candies, n_friends=3):\n",
       "    return total_candies % n_friends\n",
       "```"
      ],
      "text/plain": [
       "Solution: \n",
       "```python\n",
       "def to_smash(total_candies, n_friends=3):\n",
       "    return total_candies % n_friends\n",
       "```"
      ]
     },
     "metadata": {},
     "output_type": "display_data"
    }
   ],
   "source": [
    "q3.solution()"
   ]
  },
  {
   "cell_type": "markdown",
   "id": "6f2bea18",
   "metadata": {
    "papermill": {
     "duration": 0.004209,
     "end_time": "2025-05-17T21:40:43.713893",
     "exception": false,
     "start_time": "2025-05-17T21:40:43.709684",
     "status": "completed"
    },
    "tags": []
   },
   "source": [
    "# 4. (Optional)\n",
    "\n",
    "It may not be fun, but reading and understanding error messages will be an important part of your Python career.\n",
    "\n",
    "Each code cell below contains some commented buggy code. For each cell...\n",
    "\n",
    "1. Read the code and predict what you think will happen when it's run.\n",
    "2. Then uncomment the code and run it to see what happens. (**Tip**: In the kernel editor, you can highlight several lines and press `ctrl`+`/` to toggle commenting.)\n",
    "3. Fix the code (so that it accomplishes its intended purpose without throwing an exception)\n",
    "\n",
    "<!-- TODO: should this be autochecked? Delta is probably pretty small. -->"
   ]
  },
  {
   "cell_type": "code",
   "execution_count": 9,
   "id": "065fd6bf",
   "metadata": {
    "execution": {
     "iopub.execute_input": "2025-05-17T21:40:43.725404Z",
     "iopub.status.busy": "2025-05-17T21:40:43.725101Z",
     "iopub.status.idle": "2025-05-17T21:40:43.729297Z",
     "shell.execute_reply": "2025-05-17T21:40:43.728473Z"
    },
    "papermill": {
     "duration": 0.013085,
     "end_time": "2025-05-17T21:40:43.731192",
     "exception": false,
     "start_time": "2025-05-17T21:40:43.718107",
     "status": "completed"
    },
    "tags": []
   },
   "outputs": [],
   "source": [
    "# ruound_to_two_places(9.9999)"
   ]
  },
  {
   "cell_type": "code",
   "execution_count": 10,
   "id": "8c5205a5",
   "metadata": {
    "execution": {
     "iopub.execute_input": "2025-05-17T21:40:43.746638Z",
     "iopub.status.busy": "2025-05-17T21:40:43.746237Z",
     "iopub.status.idle": "2025-05-17T21:40:43.750747Z",
     "shell.execute_reply": "2025-05-17T21:40:43.749769Z"
    },
    "papermill": {
     "duration": 0.013119,
     "end_time": "2025-05-17T21:40:43.752264",
     "exception": false,
     "start_time": "2025-05-17T21:40:43.739145",
     "status": "completed"
    },
    "tags": []
   },
   "outputs": [],
   "source": [
    "# x = -10\n",
    "# y = 5\n",
    "# # Which of the two variables above has the smallest absolute value?\n",
    "# smallest_abs = min(abs(x, y))"
   ]
  },
  {
   "cell_type": "code",
   "execution_count": 11,
   "id": "2c67f76f",
   "metadata": {
    "execution": {
     "iopub.execute_input": "2025-05-17T21:40:43.762387Z",
     "iopub.status.busy": "2025-05-17T21:40:43.762054Z",
     "iopub.status.idle": "2025-05-17T21:40:43.767173Z",
     "shell.execute_reply": "2025-05-17T21:40:43.765694Z"
    },
    "papermill": {
     "duration": 0.012139,
     "end_time": "2025-05-17T21:40:43.768832",
     "exception": false,
     "start_time": "2025-05-17T21:40:43.756693",
     "status": "completed"
    },
    "tags": []
   },
   "outputs": [],
   "source": [
    "# def f(x):\n",
    "#     y = abs(x)\n",
    "# return y\n",
    "\n",
    "# print(f(5))"
   ]
  },
  {
   "cell_type": "markdown",
   "id": "7f11499f",
   "metadata": {
    "papermill": {
     "duration": 0.004364,
     "end_time": "2025-05-17T21:40:43.778246",
     "exception": false,
     "start_time": "2025-05-17T21:40:43.773882",
     "status": "completed"
    },
    "tags": []
   },
   "source": [
    "# Keep Going\n",
    "\n",
    "Nice job with the code. Next up, you'll learn about *conditionals*, which you'll need to **[write interesting programs](https://www.kaggle.com/colinmorris/booleans-and-conditionals)**. "
   ]
  },
  {
   "cell_type": "markdown",
   "id": "7d382c06",
   "metadata": {
    "papermill": {
     "duration": 0.004167,
     "end_time": "2025-05-17T21:40:43.786759",
     "exception": false,
     "start_time": "2025-05-17T21:40:43.782592",
     "status": "completed"
    },
    "tags": []
   },
   "source": [
    "---\n",
    "\n",
    "\n",
    "\n",
    "\n",
    "*Have questions or comments? Visit the [course discussion forum](https://www.kaggle.com/learn/python/discussion) to chat with other learners.*"
   ]
  }
 ],
 "metadata": {
  "kaggle": {
   "accelerator": "none",
   "dataSources": [],
   "isGpuEnabled": false,
   "isInternetEnabled": false,
   "language": "python",
   "sourceType": "notebook"
  },
  "kernelspec": {
   "display_name": "Python 3",
   "language": "python",
   "name": "python3"
  },
  "language_info": {
   "codemirror_mode": {
    "name": "ipython",
    "version": 3
   },
   "file_extension": ".py",
   "mimetype": "text/x-python",
   "name": "python",
   "nbconvert_exporter": "python",
   "pygments_lexer": "ipython3",
   "version": "3.11.11"
  },
  "learntools_metadata": {
   "lesson_index": 1,
   "type": "exercise"
  },
  "papermill": {
   "default_parameters": {},
   "duration": 9.225318,
   "end_time": "2025-05-17T21:40:44.411896",
   "environment_variables": {},
   "exception": null,
   "input_path": "__notebook__.ipynb",
   "output_path": "__notebook__.ipynb",
   "parameters": {},
   "start_time": "2025-05-17T21:40:35.186578",
   "version": "2.6.0"
  }
 },
 "nbformat": 4,
 "nbformat_minor": 5
}
